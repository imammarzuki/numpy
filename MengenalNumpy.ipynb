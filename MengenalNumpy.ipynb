{
  "nbformat": 4,
  "nbformat_minor": 0,
  "metadata": {
    "colab": {
      "provenance": [],
      "authorship_tag": "ABX9TyPfOZIlQoKgoDPKeyNPvPqv",
      "include_colab_link": true
    },
    "kernelspec": {
      "name": "python3",
      "display_name": "Python 3"
    },
    "language_info": {
      "name": "python"
    }
  },
  "cells": [
    {
      "cell_type": "markdown",
      "metadata": {
        "id": "view-in-github",
        "colab_type": "text"
      },
      "source": [
        "<a href=\"https://colab.research.google.com/github/imammarzuki/numpy/blob/main/MengenalNumpy.ipynb\" target=\"_parent\"><img src=\"https://colab.research.google.com/assets/colab-badge.svg\" alt=\"Open In Colab\"/></a>"
      ]
    },
    {
      "cell_type": "markdown",
      "source": [
        "Sumber : https://revou.co/panduan-teknis/numpy-python"
      ],
      "metadata": {
        "id": "aJoRoezqmcir"
      }
    },
    {
      "cell_type": "code",
      "execution_count": 5,
      "metadata": {
        "id": "K1rAFk5dmT4r"
      },
      "outputs": [],
      "source": [
        "import numpy as np"
      ]
    },
    {
      "cell_type": "code",
      "source": [
        "arr = np.array([1, 2, 3, 4, 5])"
      ],
      "metadata": {
        "id": "XU7N6s3Qm0Le"
      },
      "execution_count": 11,
      "outputs": []
    },
    {
      "cell_type": "code",
      "source": [
        "Array_nol = np.zeros(5)"
      ],
      "metadata": {
        "id": "pIQlL3qQn2KP"
      },
      "execution_count": 7,
      "outputs": []
    },
    {
      "cell_type": "code",
      "source": [
        "Array_satu = np.ones(5)"
      ],
      "metadata": {
        "id": "SdTUZlHmoEQ2"
      },
      "execution_count": 8,
      "outputs": []
    },
    {
      "cell_type": "code",
      "source": [
        "Array_dengan_rentang_nilai = np.arange(0, 10, 2)"
      ],
      "metadata": {
        "id": "_a-ToqdpoGtR"
      },
      "execution_count": 9,
      "outputs": []
    },
    {
      "cell_type": "code",
      "source": [
        "arr = np.array([1, 2, 3, 4, 5])\n",
        "print(arr[0])"
      ],
      "metadata": {
        "colab": {
          "base_uri": "https://localhost:8080/"
        },
        "id": "E98mTfrCoOPt",
        "outputId": "75537e09-970d-4363-a932-4b559460db96"
      },
      "execution_count": 12,
      "outputs": [
        {
          "output_type": "stream",
          "name": "stdout",
          "text": [
            "1\n"
          ]
        }
      ]
    },
    {
      "cell_type": "code",
      "source": [
        "arr1 = np.array([1, 2, 3])\n",
        "arr2 = np.array([4, 5, 6])\n",
        "\n",
        "hasil = arr1 + arr2\n",
        "print(hasil)"
      ],
      "metadata": {
        "colab": {
          "base_uri": "https://localhost:8080/"
        },
        "id": "k590hoK9obFE",
        "outputId": "87d6b648-3f5b-45df-c717-1f31e59fa370"
      },
      "execution_count": 13,
      "outputs": [
        {
          "output_type": "stream",
          "name": "stdout",
          "text": [
            "[5 7 9]\n"
          ]
        }
      ]
    },
    {
      "cell_type": "code",
      "source": [
        "arr = np.array([1, 2, 3, 4, 5])\n",
        "\n",
        "rata_rata = np.mean(arr)\n",
        "median = np.median(arr)"
      ],
      "metadata": {
        "id": "IOj5AZDxovjF"
      },
      "execution_count": 14,
      "outputs": []
    },
    {
      "cell_type": "code",
      "source": [
        "list_angka = [1, 2, 3, 4, 5]"
      ],
      "metadata": {
        "id": "t1CbNdtTqxFq"
      },
      "execution_count": 16,
      "outputs": []
    },
    {
      "cell_type": "code",
      "source": [
        "list_angka"
      ],
      "metadata": {
        "colab": {
          "base_uri": "https://localhost:8080/"
        },
        "id": "4gqWuYRprcbo",
        "outputId": "1583c287-5ff0-4c2c-ef56-67666286ffe6"
      },
      "execution_count": 18,
      "outputs": [
        {
          "output_type": "execute_result",
          "data": {
            "text/plain": [
              "[1, 2, 3, 4, 5]"
            ]
          },
          "metadata": {},
          "execution_count": 18
        }
      ]
    },
    {
      "cell_type": "code",
      "source": [
        "print(list_angka)"
      ],
      "metadata": {
        "colab": {
          "base_uri": "https://localhost:8080/"
        },
        "id": "_BFJGg09riKg",
        "outputId": "a6b7f95f-9830-4e5d-f45a-60d9be348eb9"
      },
      "execution_count": 19,
      "outputs": [
        {
          "output_type": "stream",
          "name": "stdout",
          "text": [
            "[1, 2, 3, 4, 5]\n"
          ]
        }
      ]
    },
    {
      "cell_type": "code",
      "source": [
        "import numpy as np\n",
        "\n",
        "arr_angka = np.array(list_angka)\n",
        "print(arr_angka)"
      ],
      "metadata": {
        "colab": {
          "base_uri": "https://localhost:8080/"
        },
        "id": "L4NQwGG_rS4Q",
        "outputId": "e784a4a3-b8da-4b15-ad53-a095361475ab"
      },
      "execution_count": 17,
      "outputs": [
        {
          "output_type": "stream",
          "name": "stdout",
          "text": [
            "[1 2 3 4 5]\n"
          ]
        }
      ]
    },
    {
      "cell_type": "code",
      "source": [
        "tuple_angka = (6, 7, 8, 9, 10)"
      ],
      "metadata": {
        "id": "9nagdkTJrrXT"
      },
      "execution_count": 20,
      "outputs": []
    },
    {
      "cell_type": "code",
      "source": [
        "arr_tuple = np.array(tuple_angka)\n",
        "print(arr_tuple)"
      ],
      "metadata": {
        "colab": {
          "base_uri": "https://localhost:8080/"
        },
        "id": "nRFfjLiur1jU",
        "outputId": "34f9fad8-1fa5-4d92-bc40-e43235d8832b"
      },
      "execution_count": 21,
      "outputs": [
        {
          "output_type": "stream",
          "name": "stdout",
          "text": [
            "[ 6  7  8  9 10]\n"
          ]
        }
      ]
    },
    {
      "cell_type": "code",
      "source": [
        "import numpy as np\n",
        "\n",
        "# Membuat array 2x3 (2 baris, 3 kolom)\n",
        "array_dua_dimensi = np.array([[1, 2, 3], [4, 5, 6]])\n",
        "print(\"Array 2D:\")\n",
        "print(array_dua_dimensi)"
      ],
      "metadata": {
        "colab": {
          "base_uri": "https://localhost:8080/"
        },
        "id": "CuIIKUzOsGuV",
        "outputId": "eefd0650-d697-462f-f701-da7cdf98fb4a"
      },
      "execution_count": 22,
      "outputs": [
        {
          "output_type": "stream",
          "name": "stdout",
          "text": [
            "Array 2D:\n",
            "[[1 2 3]\n",
            " [4 5 6]]\n"
          ]
        }
      ]
    },
    {
      "cell_type": "code",
      "source": [
        "import numpy as np\n",
        "\n",
        "arr = np.array([0, np.pi/2, np.pi])\n",
        "hasil_sin = np.sin(arr)\n",
        "print(hasil_sin)"
      ],
      "metadata": {
        "colab": {
          "base_uri": "https://localhost:8080/"
        },
        "id": "fzFXrODnsQQ9",
        "outputId": "9c464c78-0eb3-4f43-d353-87f1e49b4922"
      },
      "execution_count": 23,
      "outputs": [
        {
          "output_type": "stream",
          "name": "stdout",
          "text": [
            "[0.0000000e+00 1.0000000e+00 1.2246468e-16]\n"
          ]
        }
      ]
    },
    {
      "cell_type": "code",
      "source": [
        "hasil_cos = np.cos(arr)\n",
        "print(hasil_cos)"
      ],
      "metadata": {
        "colab": {
          "base_uri": "https://localhost:8080/"
        },
        "id": "G4iTzudutTmv",
        "outputId": "976f2d23-24ca-4338-f00f-c5fa7f9236b6"
      },
      "execution_count": 25,
      "outputs": [
        {
          "output_type": "stream",
          "name": "stdout",
          "text": [
            "[ 1.000000e+00  6.123234e-17 -1.000000e+00]\n"
          ]
        }
      ]
    },
    {
      "cell_type": "code",
      "source": [
        "arr2 = np.array([1, 4, 9, 16])\n",
        "hasil_sqrt = np.sqrt(arr2)\n",
        "print(hasil_sqrt)"
      ],
      "metadata": {
        "colab": {
          "base_uri": "https://localhost:8080/"
        },
        "id": "kJ9c-lVPtc7G",
        "outputId": "97477bd4-9892-4c55-84d6-2e0de2a8b8f0"
      },
      "execution_count": 26,
      "outputs": [
        {
          "output_type": "stream",
          "name": "stdout",
          "text": [
            "[1. 2. 3. 4.]\n"
          ]
        }
      ]
    }
  ]
}